{
 "cells": [
  {
   "cell_type": "code",
   "metadata": {
    "ExecuteTime": {
     "end_time": "2025-06-30T11:06:38.307956Z",
     "start_time": "2025-06-30T11:06:38.185420Z"
    }
   },
   "source": [
    "import gymnasium as gym\n",
    "\n",
    "\n",
    "#定义环境\n",
    "class MyWrapper(gym.Wrapper):\n",
    "\n",
    "    def __init__(self):\n",
    "        env = gym.make('CartPole-v1')\n",
    "        super().__init__(env)\n",
    "        self.env = env\n",
    "\n",
    "    def reset(self, seed=None, options=None):\n",
    "        state, info = self.env.reset()\n",
    "        return state, info\n",
    "\n",
    "    def step(self, action):\n",
    "        state, reward, done, truncated, info = self.env.step(action)\n",
    "        return state, reward, done, truncated, info\n",
    "\n",
    "\n",
    "MyWrapper().reset()"
   ],
   "outputs": [
    {
     "data": {
      "text/plain": [
       "(array([-0.00879188,  0.04424797, -0.02449973,  0.02518002], dtype=float32),\n",
       " {})"
      ]
     },
     "execution_count": 1,
     "metadata": {},
     "output_type": "execute_result"
    }
   ],
   "execution_count": 1
  },
  {
   "cell_type": "code",
   "metadata": {
    "ExecuteTime": {
     "end_time": "2025-06-30T11:09:25.243153Z",
     "start_time": "2025-06-30T11:09:16.287347Z"
    }
   },
   "source": [
    "from stable_baselines3.common.vec_env import DummyVecEnv, SubprocVecEnv\n",
    "from stable_baselines3 import PPO\n",
    "from stable_baselines3.common.evaluation import evaluate_policy\n",
    "import time\n",
    "\n",
    "\n",
    "def test_multiple_env(dumm, N):\n",
    "    if dumm:\n",
    "        #DummyVecEnv,在单线程中运行多个环境\n",
    "        env = DummyVecEnv([MyWrapper] * N)\n",
    "    else:\n",
    "        #SubprocVecEnv,在多线程中运行多个环境\n",
    "        env = SubprocVecEnv([MyWrapper] * N)\n",
    "\n",
    "    start = time.time()\n",
    "\n",
    "    #训练一个模型\n",
    "    model = PPO('MlpPolicy', env, verbose=0, device='cpu').learn(total_timesteps=5000)\n",
    "\n",
    "    print('消耗时间=', time.time() - start)\n",
    "\n",
    "    #关闭环境\n",
    "    env.close()\n",
    "\n",
    "    #测试\n",
    "    return evaluate_policy(model, MyWrapper(), n_eval_episodes=20)\n",
    "\n",
    "\n",
    "test_multiple_env(dumm=True, N=2)"
   ],
   "outputs": [
    {
     "name": "stdout",
     "output_type": "stream",
     "text": [
      "消耗时间= 6.790776014328003\n"
     ]
    },
    {
     "data": {
      "text/plain": [
       "(np.float64(351.2), np.float64(173.5057924105129))"
      ]
     },
     "execution_count": 10,
     "metadata": {},
     "output_type": "execute_result"
    }
   ],
   "execution_count": 10
  },
  {
   "cell_type": "code",
   "metadata": {
    "ExecuteTime": {
     "end_time": "2025-06-30T11:08:12.278150Z",
     "start_time": "2025-06-30T11:07:57.893796Z"
    }
   },
   "source": [
    "test_multiple_env(dumm=True, N=10)"
   ],
   "outputs": [
    {
     "name": "stdout",
     "output_type": "stream",
     "text": [
      "消耗时间= 11.926033973693848\n"
     ]
    },
    {
     "data": {
      "text/plain": [
       "(np.float64(403.5), np.float64(116.67583297324258))"
      ]
     },
     "execution_count": 4,
     "metadata": {},
     "output_type": "execute_result"
    }
   ],
   "execution_count": 4
  },
  {
   "cell_type": "code",
   "metadata": {
    "ExecuteTime": {
     "end_time": "2025-06-30T11:09:41.635263Z",
     "start_time": "2025-06-30T11:09:27.996622Z"
    }
   },
   "source": [
    "test_multiple_env(dumm=False, N=2)"
   ],
   "outputs": [
    {
     "name": "stdout",
     "output_type": "stream",
     "text": [
      "消耗时间= 8.359851121902466\n"
     ]
    },
    {
     "data": {
      "text/plain": [
       "(np.float64(334.0), np.float64(150.26875922825744))"
      ]
     },
     "execution_count": 11,
     "metadata": {},
     "output_type": "execute_result"
    }
   ],
   "execution_count": 11
  },
  {
   "cell_type": "code",
   "metadata": {
    "ExecuteTime": {
     "end_time": "2025-06-30T11:10:02.932322Z",
     "start_time": "2025-06-30T11:09:43.238670Z"
    }
   },
   "source": [
    "test_multiple_env(dumm=False, N=10)"
   ],
   "outputs": [
    {
     "name": "stdout",
     "output_type": "stream",
     "text": [
      "消耗时间= 12.964670896530151\n"
     ]
    },
    {
     "data": {
      "text/plain": [
       "(np.float64(321.75), np.float64(105.51960718274117))"
      ]
     },
     "execution_count": 12,
     "metadata": {},
     "output_type": "execute_result"
    }
   ],
   "execution_count": 12
  }
 ],
 "metadata": {
  "colab": {
   "collapsed_sections": [],
   "include_colab_link": true,
   "name": "3_multiprocessing.ipynb",
   "provenance": []
  },
  "kernelspec": {
   "display_name": "Python 3 (ipykernel)",
   "language": "python",
   "name": "python3"
  },
  "language_info": {
   "codemirror_mode": {
    "name": "ipython",
    "version": 3
   },
   "file_extension": ".py",
   "mimetype": "text/x-python",
   "name": "python",
   "nbconvert_exporter": "python",
   "pygments_lexer": "ipython3",
   "version": "3.9.15"
  }
 },
 "nbformat": 4,
 "nbformat_minor": 1
}
