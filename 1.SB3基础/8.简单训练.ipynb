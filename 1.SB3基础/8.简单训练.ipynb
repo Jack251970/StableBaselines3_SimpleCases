{
 "cells": [
  {
   "cell_type": "code",
   "metadata": {
    "ExecuteTime": {
     "end_time": "2025-06-30T11:22:04.033649Z",
     "start_time": "2025-06-30T11:22:03.983756Z"
    }
   },
   "source": [
    "import gymnasium as gym\n",
    "\n",
    "\n",
    "#定义环境\n",
    "class MyWrapper(gym.Wrapper):\n",
    "\n",
    "    def __init__(self):\n",
    "        env = gym.make('LunarLander-v3')\n",
    "        super().__init__(env)\n",
    "        self.env = env\n",
    "\n",
    "    def reset(self, seed=None, options=None):\n",
    "        state, info = self.env.reset()\n",
    "        return state, info\n",
    "\n",
    "    def step(self, action):\n",
    "        state, reward, done, truncated, info = self.env.step(action)\n",
    "        return state, reward, done, truncated, info\n",
    "\n",
    "\n",
    "env = MyWrapper()\n",
    "\n",
    "env.reset()"
   ],
   "outputs": [
    {
     "data": {
      "text/plain": [
       "(array([ 0.00502644,  1.4166392 ,  0.50910664,  0.25417387, -0.00581757,\n",
       "        -0.11532021,  0.        ,  0.        ], dtype=float32),\n",
       " {})"
      ]
     },
     "execution_count": 5,
     "metadata": {},
     "output_type": "execute_result"
    }
   ],
   "execution_count": 5
  },
  {
   "cell_type": "code",
   "metadata": {
    "id": "w7vOFlpA_ONz",
    "ExecuteTime": {
     "end_time": "2025-06-30T11:22:17.160435Z",
     "start_time": "2025-06-30T11:22:17.155437Z"
    }
   },
   "source": [
    "#认识游戏环境\n",
    "def test_env():\n",
    "    print('env.observation_space=', env.observation_space)\n",
    "    print('env.action_space=', env.action_space)\n",
    "\n",
    "    state = env.reset()\n",
    "    action = env.action_space.sample()\n",
    "    next_state, reward, done, _, _ = env.step(action)\n",
    "\n",
    "    print('state=', state)\n",
    "    print('action=', action)\n",
    "    print('next_state=', next_state)\n",
    "    print('reward=', reward)\n",
    "    print('done=', done)\n",
    "\n",
    "\n",
    "test_env()"
   ],
   "outputs": [
    {
     "name": "stdout",
     "output_type": "stream",
     "text": [
      "env.observation_space= Box([ -2.5        -2.5       -10.        -10.         -6.2831855 -10.\n",
      "  -0.         -0.       ], [ 2.5        2.5       10.        10.         6.2831855 10.\n",
      "  1.         1.       ], (8,), float32)\n",
      "env.action_space= Discrete(4)\n",
      "state= (array([-8.9550020e-05,  1.4155642e+00, -9.0858061e-03,  2.0640540e-01,\n",
      "        1.1055406e-04,  2.0580797e-03,  0.0000000e+00,  0.0000000e+00],\n",
      "      dtype=float32), {})\n",
      "action= 0\n",
      "next_state= [-1.7919540e-04  1.4196303e+00 -9.0732994e-03  1.8071297e-01\n",
      "  2.1229628e-04  2.0357957e-03  0.0000000e+00  0.0000000e+00]\n",
      "reward= 2.149683863760572\n",
      "done= False\n"
     ]
    }
   ],
   "execution_count": 7
  },
  {
   "cell_type": "code",
   "metadata": {
    "id": "543OHYDfcjK4",
    "ExecuteTime": {
     "end_time": "2025-06-30T11:22:31.681319Z",
     "start_time": "2025-06-30T11:22:27.880690Z"
    }
   },
   "source": [
    "from stable_baselines3.common.env_util import make_vec_env\n",
    "from stable_baselines3 import PPO\n",
    "\n",
    "#初始化模型\n",
    "model = PPO(\n",
    "    policy='MlpPolicy',\n",
    "    env=make_vec_env(MyWrapper, n_envs=4),  #创建N个环境用于训练\n",
    "    n_steps=1024,\n",
    "    batch_size=64,\n",
    "    n_epochs=4,\n",
    "    gamma=0.999,\n",
    "    gae_lambda=0.98,\n",
    "    ent_coef=0.01,\n",
    "    verbose=0,\n",
    "    device='cpu')\n",
    "\n",
    "model"
   ],
   "outputs": [
    {
     "data": {
      "text/plain": [
       "<stable_baselines3.ppo.ppo.PPO at 0x2075b88ade0>"
      ]
     },
     "execution_count": 8,
     "metadata": {},
     "output_type": "execute_result"
    }
   ],
   "execution_count": 8
  },
  {
   "cell_type": "code",
   "metadata": {
    "ExecuteTime": {
     "end_time": "2025-06-30T11:22:50.692722Z",
     "start_time": "2025-06-30T11:22:50.245325Z"
    }
   },
   "source": [
    "from stable_baselines3.common.evaluation import evaluate_policy\n",
    "\n",
    "#测试\n",
    "evaluate_policy(model, env, n_eval_episodes=10, deterministic=False)"
   ],
   "outputs": [
    {
     "name": "stderr",
     "output_type": "stream",
     "text": [
      "C:\\Users\\11602\\miniconda3\\envs\\RL\\Lib\\site-packages\\stable_baselines3\\common\\evaluation.py:67: UserWarning: Evaluation environment is not wrapped with a ``Monitor`` wrapper. This may result in reporting modified episode lengths and rewards, if other wrappers happen to modify these. Consider wrapping environment first with ``Monitor`` wrapper.\n",
      "  warnings.warn(\n"
     ]
    },
    {
     "data": {
      "text/plain": [
       "(np.float64(-135.15116650802082), np.float64(139.95567875679728))"
      ]
     },
     "execution_count": 9,
     "metadata": {},
     "output_type": "execute_result"
    }
   ],
   "execution_count": 9
  },
  {
   "cell_type": "code",
   "metadata": {
    "scrolled": true,
    "jupyter": {
     "is_executing": true
    },
    "ExecuteTime": {
     "start_time": "2025-06-30T11:23:08.277363Z"
    }
   },
   "source": [
    "#训练\n",
    "model.learn(total_timesteps=20_0000, progress_bar=True)\n",
    "model.save('models/ppo-LunarLander-v3')"
   ],
   "outputs": [
    {
     "data": {
      "text/plain": [
       "C:\\Users\\11602\\miniconda3\\envs\\RL\\Lib\\site-packages\\rich\\live.py:231: UserWarning: install \"ipywidgets\" for Jupyter\n",
       "support\n",
       "  warnings.warn('install \"ipywidgets\" for Jupyter support')\n"
      ],
      "text/html": [
       "<pre style=\"white-space:pre;overflow-x:auto;line-height:normal;font-family:Menlo,'DejaVu Sans Mono',consolas,'Courier New',monospace\">C:\\Users\\11602\\miniconda3\\envs\\RL\\Lib\\site-packages\\rich\\live.py:231: UserWarning: install \"ipywidgets\" for Jupyter\n",
       "support\n",
       "  warnings.warn('install \"ipywidgets\" for Jupyter support')\n",
       "</pre>\n"
      ]
     },
     "metadata": {},
     "output_type": "display_data"
    }
   ],
   "execution_count": null
  },
  {
   "cell_type": "code",
   "execution_count": 6,
   "metadata": {
    "id": "zpz8kHlt_a_m"
   },
   "outputs": [
    {
     "data": {
      "text/plain": [
       "(45.54798891161171, 139.1048836822021)"
      ]
     },
     "execution_count": 6,
     "metadata": {},
     "output_type": "execute_result"
    }
   ],
   "source": [
    "model = PPO.load('models/ppo-LunarLander-v3')\n",
    "\n",
    "evaluate_policy(model, env, n_eval_episodes=10, deterministic=False)"
   ]
  },
  {
   "cell_type": "code",
   "execution_count": 7,
   "metadata": {
    "id": "oj8PSGHJfwz3"
   },
   "outputs": [
    {
     "data": {
      "application/vnd.jupyter.widget-view+json": {
       "model_id": "45f3a5f31e464240bba8485ed3e659ef",
       "version_major": 2,
       "version_minor": 0
      },
      "text/plain": [
       "Downloading:   0%|          | 0.00/144k [00:00<?, ?B/s]"
      ]
     },
     "metadata": {},
     "output_type": "display_data"
    },
    {
     "name": "stdout",
     "output_type": "stream",
     "text": [
      "== CURRENT SYSTEM INFO ==\n",
      "- OS: Linux-5.15.0-3.60.5.1.el9uek.x86_64-x86_64-with-glibc2.34 # 2 SMP Wed Oct 19 20:27:31 PDT 2022\n",
      "- Python: 3.9.15\n",
      "- Stable-Baselines3: 1.8.0a1\n",
      "- PyTorch: 1.13.0+cpu\n",
      "- GPU Enabled: False\n",
      "- Numpy: 1.23.5\n",
      "- Gym: 0.26.2\n",
      "\n",
      "== SAVED MODEL SYSTEM INFO ==\n",
      "OS: Linux-5.13.0-40-generic-x86_64-with-debian-bullseye-sid #45~20.04.1-Ubuntu SMP Mon Apr 4 09:38:31 UTC 2022\n",
      "Python: 3.7.10\n",
      "Stable-Baselines3: 1.5.1a5\n",
      "PyTorch: 1.11.0\n",
      "GPU Enabled: False\n",
      "Numpy: 1.21.2\n",
      "Gym: 0.21.0\n",
      "\n"
     ]
    },
    {
     "name": "stderr",
     "output_type": "stream",
     "text": [
      "/root/anaconda3/envs/pt39/lib/python3.9/site-packages/stable_baselines3/common/evaluation.py:67: UserWarning: Evaluation environment is not wrapped with a ``Monitor`` wrapper. This may result in reporting modified episode lengths and rewards, if other wrappers happen to modify these. Consider wrapping environment first with ``Monitor`` wrapper.\n",
      "  warnings.warn(\n"
     ]
    },
    {
     "data": {
      "text/plain": [
       "(250.9974542026721, 86.61020518339575)"
      ]
     },
     "execution_count": 7,
     "metadata": {},
     "output_type": "execute_result"
    }
   ],
   "source": [
    "from huggingface_sb3 import load_from_hub\n",
    "\n",
    "#!pip install huggingface-sb3\n",
    "\n",
    "#加载其他训练好的模型\n",
    "#https://huggingface.co/models?library=stable-baselines3\n",
    "model = PPO.load(\n",
    "    load_from_hub('araffin/ppo-LunarLander-v2', 'ppo-LunarLander-v2.zip'),\n",
    "    custom_objects={\n",
    "        'learning_rate': 0.0,\n",
    "        'lr_schedule': lambda _: 0.0,\n",
    "        'clip_range': lambda _: 0.0,\n",
    "    },\n",
    "    print_system_info=True,\n",
    ")\n",
    "\n",
    "evaluate_policy(model, env, n_eval_episodes=10, deterministic=False)"
   ]
  }
 ],
 "metadata": {
  "accelerator": "GPU",
  "colab": {
   "collapsed_sections": [],
   "include_colab_link": true,
   "name": "Copie de Unit 1: Train your first Deep Reinforcement Learning Agent 🚀.ipynb",
   "private_outputs": true,
   "provenance": []
  },
  "gpuClass": "standard",
  "kernelspec": {
   "display_name": "Python 3 (ipykernel)",
   "language": "python",
   "name": "python3"
  },
  "language_info": {
   "codemirror_mode": {
    "name": "ipython",
    "version": 3
   },
   "file_extension": ".py",
   "mimetype": "text/x-python",
   "name": "python",
   "nbconvert_exporter": "python",
   "pygments_lexer": "ipython3",
   "version": "3.9.15"
  },
  "vscode": {
   "interpreter": {
    "hash": "ed7f8024e43d3b8f5ca3c5e1a8151ab4d136b3ecee1e3fd59e0766ccc55e1b10"
   }
  }
 },
 "nbformat": 4,
 "nbformat_minor": 1
}
