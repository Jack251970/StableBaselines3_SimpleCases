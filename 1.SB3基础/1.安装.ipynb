{
 "cells": [
  {
   "cell_type": "code",
   "id": "5ea1f438",
   "metadata": {
    "ExecuteTime": {
     "end_time": "2025-06-30T10:13:17.164282Z",
     "start_time": "2025-06-30T10:13:17.157456Z"
    }
   },
   "source": [
    "#环境要求\n",
    "#python 3.9\n",
    "#PyTorch >= 1.11\n",
    "\n",
    "#二选一即可\n",
    "#!pip install stable-baselines3[extra]\n",
    "#!pip install git+https://github.com/DLR-RM/stable-baselines3\n",
    "\n",
    "#建议使用0.26.2版本的gym\n",
    "#!pip install gym==0.26.2\n",
    "\n",
    "#测试\n",
    "import torch\n",
    "import stable_baselines3 as sb3\n",
    "import gymnasium as gym\n",
    "\n",
    "torch.__version__, sb3.__version__, gym.__version__"
   ],
   "outputs": [
    {
     "data": {
      "text/plain": [
       "('2.7.1+cu118', '2.6.0', '1.1.1')"
      ]
     },
     "execution_count": 2,
     "metadata": {},
     "output_type": "execute_result"
    }
   ],
   "execution_count": 2
  }
 ],
 "metadata": {
  "kernelspec": {
   "display_name": "Python 3 (ipykernel)",
   "language": "python",
   "name": "python3"
  },
  "language_info": {
   "codemirror_mode": {
    "name": "ipython",
    "version": 3
   },
   "file_extension": ".py",
   "mimetype": "text/x-python",
   "name": "python",
   "nbconvert_exporter": "python",
   "pygments_lexer": "ipython3",
   "version": "3.9.15"
  }
 },
 "nbformat": 4,
 "nbformat_minor": 5
}
