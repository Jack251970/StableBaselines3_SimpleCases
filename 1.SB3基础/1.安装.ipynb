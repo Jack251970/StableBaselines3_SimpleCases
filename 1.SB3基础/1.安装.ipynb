{
 "cells": [
  {
   "cell_type": "code",
   "execution_count": 1,
   "id": "5ea1f438",
   "metadata": {},
   "outputs": [
    {
     "data": {
      "text/plain": [
       "('1.8.0a1', '0.26.2')"
      ]
     },
     "execution_count": 1,
     "metadata": {},
     "output_type": "execute_result"
    }
   ],
   "source": [
    "#环境要求\n",
    "#python 3.9\n",
    "#PyTorch >= 1.11\n",
    "\n",
    "#二选一即可\n",
    "#!pip install stable-baselines3[extra]\n",
    "#!pip install git+https://github.com/DLR-RM/stable-baselines3\n",
    "\n",
    "#建议使用0.26.2版本的gym\n",
    "#!pip install gym==0.26.2\n",
    "\n",
    "#测试\n",
    "import stable_baselines3 as sb3\n",
    "import gym\n",
    "\n",
    "sb3.__version__, gym.__version__"
   ]
  }
 ],
 "metadata": {
  "kernelspec": {
   "display_name": "Python 3 (ipykernel)",
   "language": "python",
   "name": "python3"
  },
  "language_info": {
   "codemirror_mode": {
    "name": "ipython",
    "version": 3
   },
   "file_extension": ".py",
   "mimetype": "text/x-python",
   "name": "python",
   "nbconvert_exporter": "python",
   "pygments_lexer": "ipython3",
   "version": "3.9.15"
  }
 },
 "nbformat": 4,
 "nbformat_minor": 5
}
