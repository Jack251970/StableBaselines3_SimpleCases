{
 "cells": [
  {
   "cell_type": "code",
   "metadata": {
    "ExecuteTime": {
     "end_time": "2025-06-30T11:30:34.603791Z",
     "start_time": "2025-06-30T11:30:34.492639Z"
    }
   },
   "source": [
    "import gymnasium as gym\n",
    "\n",
    "\n",
    "#定义环境\n",
    "class MyWrapper(gym.Wrapper):\n",
    "\n",
    "    def __init__(self):\n",
    "        env = gym.make('CartPole-v1')\n",
    "        super().__init__(env)\n",
    "        self.env = env\n",
    "\n",
    "    def reset(self, seed=None, options=None):\n",
    "        state, info = self.env.reset()\n",
    "        return state, info\n",
    "\n",
    "    def step(self, action):\n",
    "        state, reward, done, truncated, info = self.env.step(action)\n",
    "        return state, reward, done, truncated, info\n",
    "\n",
    "\n",
    "env = MyWrapper()\n",
    "\n",
    "env.reset()"
   ],
   "outputs": [
    {
     "data": {
      "text/plain": [
       "(array([-0.04381294, -0.01670942, -0.02166145, -0.04231208], dtype=float32),\n",
       " {})"
      ]
     },
     "execution_count": 1,
     "metadata": {},
     "output_type": "execute_result"
    }
   ],
   "execution_count": 1
  },
  {
   "cell_type": "code",
   "metadata": {
    "scrolled": false,
    "ExecuteTime": {
     "end_time": "2025-06-30T11:30:39.817014Z",
     "start_time": "2025-06-30T11:30:35.945079Z"
    }
   },
   "source": [
    "import torch\n",
    "from stable_baselines3 import PPO\n",
    "from stable_baselines3.common.torch_layers import BaseFeaturesExtractor\n",
    "\n",
    "\n",
    "#自定义特征抽取层\n",
    "class CustomCNN(BaseFeaturesExtractor):\n",
    "\n",
    "    def __init__(self, observation_space, hidden_dim):\n",
    "        super().__init__(observation_space, hidden_dim)\n",
    "\n",
    "        self.sequential = torch.nn.Sequential(\n",
    "\n",
    "            #[b, 4, 1, 1] -> [b, h, 1, 1]\n",
    "            torch.nn.Conv2d(in_channels=observation_space.shape[0],\n",
    "                            out_channels=hidden_dim,\n",
    "                            kernel_size=1,\n",
    "                            stride=1,\n",
    "                            padding=0),\n",
    "            torch.nn.ReLU(),\n",
    "\n",
    "            #[b, h, 1, 1] -> [b, h, 1, 1]\n",
    "            torch.nn.Conv2d(hidden_dim,\n",
    "                            hidden_dim,\n",
    "                            kernel_size=1,\n",
    "                            stride=1,\n",
    "                            padding=0),\n",
    "            torch.nn.ReLU(),\n",
    "\n",
    "            #[b, h, 1, 1] -> [b, h]\n",
    "            torch.nn.Flatten(),\n",
    "\n",
    "            #[b, h] -> [b, h]\n",
    "            torch.nn.Linear(hidden_dim, hidden_dim),\n",
    "            torch.nn.ReLU(),\n",
    "        )\n",
    "\n",
    "    def forward(self, state):\n",
    "        b = state.shape[0]\n",
    "        state = state.reshape(b, -1, 1, 1)\n",
    "        return self.sequential(state)\n",
    "\n",
    "\n",
    "# Use features_extractor_class and features_extractor_kwargs to specify the custom feature extractor\n",
    "model = PPO('CnnPolicy',\n",
    "            env,\n",
    "            policy_kwargs={\n",
    "                'features_extractor_class': CustomCNN,\n",
    "                'features_extractor_kwargs': {\n",
    "                    'hidden_dim': 8\n",
    "                },\n",
    "            },\n",
    "            verbose=0,\n",
    "            device='cpu')\n",
    "\n",
    "model"
   ],
   "outputs": [
    {
     "data": {
      "text/plain": [
       "<stable_baselines3.ppo.ppo.PPO at 0x17bf195b560>"
      ]
     },
     "execution_count": 2,
     "metadata": {},
     "output_type": "execute_result"
    }
   ],
   "execution_count": 2
  },
  {
   "cell_type": "code",
   "metadata": {
    "ExecuteTime": {
     "end_time": "2025-06-30T11:30:40.924764Z",
     "start_time": "2025-06-30T11:30:40.819015Z"
    }
   },
   "source": [
    "from stable_baselines3.common.evaluation import evaluate_policy\n",
    "\n",
    "#测试\n",
    "evaluate_policy(model, env, n_eval_episodes=10, deterministic=False)"
   ],
   "outputs": [
    {
     "name": "stderr",
     "output_type": "stream",
     "text": [
      "C:\\Users\\11602\\miniconda3\\envs\\RL\\Lib\\site-packages\\stable_baselines3\\common\\evaluation.py:67: UserWarning: Evaluation environment is not wrapped with a ``Monitor`` wrapper. This may result in reporting modified episode lengths and rewards, if other wrappers happen to modify these. Consider wrapping environment first with ``Monitor`` wrapper.\n",
      "  warnings.warn(\n"
     ]
    },
    {
     "data": {
      "text/plain": [
       "(np.float64(18.6), np.float64(6.135144660071187))"
      ]
     },
     "execution_count": 3,
     "metadata": {},
     "output_type": "execute_result"
    }
   ],
   "execution_count": 3
  },
  {
   "cell_type": "code",
   "metadata": {
    "scrolled": true,
    "ExecuteTime": {
     "end_time": "2025-06-30T11:31:13.466220Z",
     "start_time": "2025-06-30T11:30:43.467645Z"
    }
   },
   "source": [
    "#训练\n",
    "model.learn(total_timesteps=2_0000, progress_bar=True)\n",
    "\n",
    "model.save('models/自定义特征抽取层')"
   ],
   "outputs": [
    {
     "data": {
      "text/plain": [
       "Output()"
      ],
      "application/vnd.jupyter.widget-view+json": {
       "version_major": 2,
       "version_minor": 0,
       "model_id": "2587fb61e36f400e8d3bcb35f439084f"
      }
     },
     "metadata": {},
     "output_type": "display_data"
    },
    {
     "data": {
      "text/plain": [],
      "text/html": [
       "<pre style=\"white-space:pre;overflow-x:auto;line-height:normal;font-family:Menlo,'DejaVu Sans Mono',consolas,'Courier New',monospace\"></pre>\n"
      ]
     },
     "metadata": {},
     "output_type": "display_data"
    }
   ],
   "execution_count": 4
  },
  {
   "cell_type": "code",
   "metadata": {
    "id": "zpz8kHlt_a_m",
    "ExecuteTime": {
     "end_time": "2025-06-30T11:31:20.881883Z",
     "start_time": "2025-06-30T11:31:18.272209Z"
    }
   },
   "source": [
    "model = PPO.load('models/自定义特征抽取层')\n",
    "\n",
    "evaluate_policy(model, env, n_eval_episodes=10, deterministic=False)"
   ],
   "outputs": [
    {
     "data": {
      "text/plain": [
       "(np.float64(169.0), np.float64(58.590101553078064))"
      ]
     },
     "execution_count": 5,
     "metadata": {},
     "output_type": "execute_result"
    }
   ],
   "execution_count": 5
  }
 ],
 "metadata": {
  "accelerator": "GPU",
  "colab": {
   "collapsed_sections": [],
   "include_colab_link": true,
   "name": "Copie de Unit 1: Train your first Deep Reinforcement Learning Agent 🚀.ipynb",
   "private_outputs": true,
   "provenance": []
  },
  "gpuClass": "standard",
  "kernelspec": {
   "display_name": "Python 3 (ipykernel)",
   "language": "python",
   "name": "python3"
  },
  "language_info": {
   "codemirror_mode": {
    "name": "ipython",
    "version": 3
   },
   "file_extension": ".py",
   "mimetype": "text/x-python",
   "name": "python",
   "nbconvert_exporter": "python",
   "pygments_lexer": "ipython3",
   "version": "3.9.15"
  },
  "vscode": {
   "interpreter": {
    "hash": "ed7f8024e43d3b8f5ca3c5e1a8151ab4d136b3ecee1e3fd59e0766ccc55e1b10"
   }
  }
 },
 "nbformat": 4,
 "nbformat_minor": 1
}
