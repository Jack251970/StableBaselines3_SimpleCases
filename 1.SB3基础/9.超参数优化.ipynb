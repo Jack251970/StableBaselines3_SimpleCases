{
 "cells": [
  {
   "cell_type": "code",
   "metadata": {
    "ExecuteTime": {
     "end_time": "2025-06-30T11:24:55.390966Z",
     "start_time": "2025-06-30T11:24:55.265900Z"
    }
   },
   "source": [
    "import gymnasium as gym\n",
    "\n",
    "\n",
    "#定义环境\n",
    "class MyWrapper(gym.Wrapper):\n",
    "\n",
    "    def __init__(self):\n",
    "        env = gym.make('CartPole-v1')\n",
    "        super().__init__(env)\n",
    "        self.env = env\n",
    "\n",
    "    def reset(self, seed=None, options=None):\n",
    "        state, info = self.env.reset()\n",
    "        return state, info\n",
    "\n",
    "    def step(self, action):\n",
    "        state, reward, done, truncated, info = self.env.step(action)\n",
    "        return state, reward, done, truncated, info\n",
    "\n",
    "\n",
    "MyWrapper().reset()"
   ],
   "outputs": [
    {
     "data": {
      "text/plain": [
       "(array([-4.5846730e-02, -3.9549603e-05,  4.1472476e-02, -3.7735011e-02],\n",
       "       dtype=float32),\n",
       " {})"
      ]
     },
     "execution_count": 1,
     "metadata": {},
     "output_type": "execute_result"
    }
   ],
   "execution_count": 1
  },
  {
   "cell_type": "code",
   "metadata": {
    "id": "WTHPMs_s7YFc",
    "ExecuteTime": {
     "end_time": "2025-06-30T11:25:12.597639Z",
     "start_time": "2025-06-30T11:25:09.818563Z"
    }
   },
   "source": [
    "from stable_baselines3.common.env_util import make_vec_env\n",
    "from stable_baselines3.common.monitor import Monitor\n",
    "\n",
    "#创建训练环境和测试环境\n",
    "env_train = make_vec_env(MyWrapper, n_envs=4)\n",
    "env_test = Monitor(MyWrapper())\n",
    "\n",
    "env_train, env_test"
   ],
   "outputs": [
    {
     "data": {
      "text/plain": [
       "(<stable_baselines3.common.vec_env.dummy_vec_env.DummyVecEnv at 0x1f0c0657c20>,\n",
       " <Monitor<MyWrapper<TimeLimit<OrderEnforcing<PassiveEnvChecker<CartPoleEnv<CartPole-v1>>>>>>>)"
      ]
     },
     "execution_count": 2,
     "metadata": {},
     "output_type": "execute_result"
    }
   ],
   "execution_count": 2
  },
  {
   "cell_type": "code",
   "metadata": {
    "ExecuteTime": {
     "end_time": "2025-06-30T11:25:49.024833Z",
     "start_time": "2025-06-30T11:25:43.703598Z"
    }
   },
   "source": [
    "from stable_baselines3 import PPO\n",
    "from stable_baselines3.common.evaluation import evaluate_policy\n",
    "\n",
    "\n",
    "#测试超参数\n",
    "def test_params(params):\n",
    "    #定义一个模型\n",
    "    model = PPO(\n",
    "        policy='MlpPolicy',\n",
    "        env=env_train,\n",
    "        n_steps=1024,\n",
    "        batch_size=64,\n",
    "        #取超参数\n",
    "        n_epochs=params['n_epochs'],\n",
    "        #取超参数\n",
    "        gamma=params['gamma'],\n",
    "        gae_lambda=0.98,\n",
    "        ent_coef=0.01,\n",
    "        verbose=0,\n",
    "        device='cpu'\n",
    "    )\n",
    "\n",
    "    #训练\n",
    "    #取超参数\n",
    "    model.learn(total_timesteps=params['total_timesteps'], progress_bar=True)\n",
    "\n",
    "    #测试\n",
    "    mean_reward, std_reward = evaluate_policy(model,\n",
    "                                              env_test,\n",
    "                                              n_eval_episodes=50,\n",
    "                                              deterministic=True)\n",
    "\n",
    "    #最终的分数就是简单的求差,这也是study要优化的数\n",
    "    score = mean_reward - std_reward\n",
    "\n",
    "    return score\n",
    "\n",
    "\n",
    "test_params({'n_epochs': 2, 'gamma': 0.99, 'total_timesteps': 500})"
   ],
   "outputs": [
    {
     "data": {
      "text/plain": [
       "C:\\Users\\11602\\miniconda3\\envs\\RL\\Lib\\site-packages\\rich\\live.py:231: UserWarning: install \"ipywidgets\" for Jupyter\n",
       "support\n",
       "  warnings.warn('install \"ipywidgets\" for Jupyter support')\n"
      ],
      "text/html": [
       "<pre style=\"white-space:pre;overflow-x:auto;line-height:normal;font-family:Menlo,'DejaVu Sans Mono',consolas,'Courier New',monospace\">C:\\Users\\11602\\miniconda3\\envs\\RL\\Lib\\site-packages\\rich\\live.py:231: UserWarning: install \"ipywidgets\" for Jupyter\n",
       "support\n",
       "  warnings.warn('install \"ipywidgets\" for Jupyter support')\n",
       "</pre>\n"
      ]
     },
     "metadata": {},
     "output_type": "display_data"
    },
    {
     "data": {
      "text/plain": [],
      "text/html": [
       "<pre style=\"white-space:pre;overflow-x:auto;line-height:normal;font-family:Menlo,'DejaVu Sans Mono',consolas,'Courier New',monospace\"></pre>\n"
      ]
     },
     "metadata": {},
     "output_type": "display_data"
    },
    {
     "data": {
      "text/plain": [
       "np.float64(81.75799024501725)"
      ]
     },
     "execution_count": 3,
     "metadata": {},
     "output_type": "execute_result"
    }
   ],
   "execution_count": 3
  },
  {
   "cell_type": "code",
   "metadata": {
    "ExecuteTime": {
     "end_time": "2025-06-30T11:26:42.396683Z",
     "start_time": "2025-06-30T11:26:21.051509Z"
    }
   },
   "source": [
    "import optuna\n",
    "from optuna.samplers import TPESampler\n",
    "\n",
    "#定义一个超参数学习器\n",
    "study = optuna.create_study(sampler=TPESampler(),\n",
    "                            study_name='PPO-LunarLander-v2',\n",
    "                            direction='maximize')\n",
    "\n",
    "\n",
    "#求最优超参数\n",
    "def f(trial):\n",
    "    #定义要找的超参数,并设置上下限\n",
    "    params = {\n",
    "        'n_epochs': trial.suggest_int('n_epochs', 3, 5),\n",
    "        'gamma': trial.suggest_uniform('gamma', 0.99, 0.9999),\n",
    "        'total_timesteps': trial.suggest_int('total_timesteps', 500, 2000),\n",
    "    }\n",
    "\n",
    "    #测试超参数\n",
    "    return test_params(params)\n",
    "\n",
    "\n",
    "study.optimize(f, n_trials=5)\n",
    "\n",
    "#输出最佳分数和超参数\n",
    "study.best_trial.values, study.best_trial.params"
   ],
   "outputs": [
    {
     "name": "stderr",
     "output_type": "stream",
     "text": [
      "C:\\Users\\11602\\miniconda3\\envs\\RL\\Lib\\site-packages\\tqdm\\auto.py:21: TqdmWarning: IProgress not found. Please update jupyter and ipywidgets. See https://ipywidgets.readthedocs.io/en/stable/user_install.html\n",
      "  from .autonotebook import tqdm as notebook_tqdm\n",
      "[I 2025-06-30 19:26:21,136] A new study created in memory with name: PPO-LunarLander-v2\n"
     ]
    },
    {
     "data": {
      "text/plain": [
       "C:\\Users\\11602\\miniconda3\\envs\\RL\\Lib\\site-packages\\rich\\live.py:231: UserWarning: install \"ipywidgets\" for Jupyter\n",
       "support\n",
       "  warnings.warn('install \"ipywidgets\" for Jupyter support')\n"
      ],
      "text/html": [
       "<pre style=\"white-space:pre;overflow-x:auto;line-height:normal;font-family:Menlo,'DejaVu Sans Mono',consolas,'Courier New',monospace\">C:\\Users\\11602\\miniconda3\\envs\\RL\\Lib\\site-packages\\rich\\live.py:231: UserWarning: install \"ipywidgets\" for Jupyter\n",
       "support\n",
       "  warnings.warn('install \"ipywidgets\" for Jupyter support')\n",
       "</pre>\n"
      ]
     },
     "metadata": {},
     "output_type": "display_data"
    },
    {
     "name": "stderr",
     "output_type": "stream",
     "text": [
      "C:\\Users\\11602\\AppData\\Local\\Temp\\ipykernel_24756\\4264987568.py:15: FutureWarning: suggest_uniform has been deprecated in v3.0.0. This feature will be removed in v6.0.0. See https://github.com/optuna/optuna/releases/tag/v3.0.0. Use suggest_float instead.\n",
      "  'gamma': trial.suggest_uniform('gamma', 0.99, 0.9999),\n"
     ]
    },
    {
     "data": {
      "text/plain": [],
      "text/html": [
       "<pre style=\"white-space:pre;overflow-x:auto;line-height:normal;font-family:Menlo,'DejaVu Sans Mono',consolas,'Courier New',monospace\"></pre>\n"
      ]
     },
     "metadata": {},
     "output_type": "display_data"
    },
    {
     "name": "stderr",
     "output_type": "stream",
     "text": [
      "[I 2025-06-30 19:26:24,994] Trial 0 finished with value: 61.13555052642612 and parameters: {'n_epochs': 5, 'gamma': 0.9905258768003454, 'total_timesteps': 1928}. Best is trial 0 with value: 61.13555052642612.\n"
     ]
    },
    {
     "data": {
      "text/plain": [],
      "text/html": [
       "<pre style=\"white-space:pre;overflow-x:auto;line-height:normal;font-family:Menlo,'DejaVu Sans Mono',consolas,'Courier New',monospace\"></pre>\n"
      ]
     },
     "metadata": {},
     "output_type": "display_data"
    },
    {
     "name": "stderr",
     "output_type": "stream",
     "text": [
      "[I 2025-06-30 19:26:27,927] Trial 1 finished with value: 73.53361545386778 and parameters: {'n_epochs': 3, 'gamma': 0.9950450746348383, 'total_timesteps': 1416}. Best is trial 1 with value: 73.53361545386778.\n"
     ]
    },
    {
     "data": {
      "text/plain": [],
      "text/html": [
       "<pre style=\"white-space:pre;overflow-x:auto;line-height:normal;font-family:Menlo,'DejaVu Sans Mono',consolas,'Courier New',monospace\"></pre>\n"
      ]
     },
     "metadata": {},
     "output_type": "display_data"
    },
    {
     "name": "stderr",
     "output_type": "stream",
     "text": [
      "[I 2025-06-30 19:26:31,682] Trial 2 finished with value: 71.00435662356603 and parameters: {'n_epochs': 5, 'gamma': 0.9915865224900453, 'total_timesteps': 1933}. Best is trial 1 with value: 73.53361545386778.\n"
     ]
    },
    {
     "data": {
      "text/plain": [],
      "text/html": [
       "<pre style=\"white-space:pre;overflow-x:auto;line-height:normal;font-family:Menlo,'DejaVu Sans Mono',consolas,'Courier New',monospace\"></pre>\n"
      ]
     },
     "metadata": {},
     "output_type": "display_data"
    },
    {
     "name": "stderr",
     "output_type": "stream",
     "text": [
      "[I 2025-06-30 19:26:36,450] Trial 3 finished with value: 84.40964150235163 and parameters: {'n_epochs': 5, 'gamma': 0.9980272079640348, 'total_timesteps': 1608}. Best is trial 3 with value: 84.40964150235163.\n"
     ]
    },
    {
     "data": {
      "text/plain": [],
      "text/html": [
       "<pre style=\"white-space:pre;overflow-x:auto;line-height:normal;font-family:Menlo,'DejaVu Sans Mono',consolas,'Courier New',monospace\"></pre>\n"
      ]
     },
     "metadata": {},
     "output_type": "display_data"
    },
    {
     "name": "stderr",
     "output_type": "stream",
     "text": [
      "[I 2025-06-30 19:26:42,393] Trial 4 finished with value: 150.14159175610666 and parameters: {'n_epochs': 5, 'gamma': 0.9982933699484305, 'total_timesteps': 1822}. Best is trial 4 with value: 150.14159175610666.\n"
     ]
    },
    {
     "data": {
      "text/plain": [
       "([150.14159175610666],\n",
       " {'n_epochs': 5, 'gamma': 0.9982933699484305, 'total_timesteps': 1822})"
      ]
     },
     "execution_count": 4,
     "metadata": {},
     "output_type": "execute_result"
    }
   ],
   "execution_count": 4
  },
  {
   "cell_type": "code",
   "metadata": {
    "id": "8JVUHgljIW1E",
    "ExecuteTime": {
     "end_time": "2025-06-30T11:26:56.026426Z",
     "start_time": "2025-06-30T11:26:50.688266Z"
    }
   },
   "source": [
    "#用最优超参数训练一个模型\n",
    "test_params(study.best_trial.params)"
   ],
   "outputs": [
    {
     "data": {
      "text/plain": [],
      "text/html": [
       "<pre style=\"white-space:pre;overflow-x:auto;line-height:normal;font-family:Menlo,'DejaVu Sans Mono',consolas,'Courier New',monospace\"></pre>\n"
      ]
     },
     "metadata": {},
     "output_type": "display_data"
    },
    {
     "data": {
      "text/plain": [
       "np.float64(134.0411876134619)"
      ]
     },
     "execution_count": 5,
     "metadata": {},
     "output_type": "execute_result"
    }
   ],
   "execution_count": 5
  }
 ],
 "metadata": {
  "colab": {
   "collapsed_sections": [],
   "name": "Unit 1 Special Content: Optuna Guide.ipynb",
   "provenance": []
  },
  "kernelspec": {
   "display_name": "Python 3 (ipykernel)",
   "language": "python",
   "name": "python3"
  },
  "language_info": {
   "codemirror_mode": {
    "name": "ipython",
    "version": 3
   },
   "file_extension": ".py",
   "mimetype": "text/x-python",
   "name": "python",
   "nbconvert_exporter": "python",
   "pygments_lexer": "ipython3",
   "version": "3.9.15"
  }
 },
 "nbformat": 4,
 "nbformat_minor": 1
}
